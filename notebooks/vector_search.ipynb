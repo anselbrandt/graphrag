{
 "cells": [
  {
   "cell_type": "code",
   "execution_count": null,
   "metadata": {},
   "outputs": [],
   "source": [
    "from pathlib import Path\n",
    "\n",
    "import chromadb\n",
    "from chromadb.utils.embedding_functions.sentence_transformer_embedding_function import (\n",
    "    SentenceTransformerEmbeddingFunction,\n",
    ")"
   ]
  },
  {
   "cell_type": "code",
   "execution_count": 2,
   "metadata": {},
   "outputs": [],
   "source": [
    "chromadb_dir = Path(\"chromadb\")\n",
    "chromadb_dir.mkdir(exist_ok=True)\n",
    "\n",
    "with open(\"eleanor.txt\", \"r\") as f:\n",
    "    chunks = f.read().split(\"\\n\\n\")\n",
    "chroma_client = chromadb.PersistentClient(path=str(chromadb_dir))\n",
    "collection = chroma_client.get_or_create_collection(name=\"podcasts\")\n",
    "ids = [str(i) for i in range(len(chunks))]\n",
    "\n",
    "collection.add(documents=chunks, ids=ids)"
   ]
  },
  {
   "cell_type": "code",
   "execution_count": 7,
   "metadata": {},
   "outputs": [],
   "source": [
    "query_string = \"Who is Eleanor?\"\n",
    "results = collection.query(query_texts=[query_string], n_results=10)\n",
    "\n",
    "docs = results[\"documents\"][0]\n",
    "\n",
    "with open(\"top_k.hxt\", \"w\") as f:\n",
    "    f.write(\"\\n\".join(docs))"
   ]
  }
 ],
 "metadata": {
  "kernelspec": {
   "display_name": ".venv",
   "language": "python",
   "name": "python3"
  },
  "language_info": {
   "codemirror_mode": {
    "name": "ipython",
    "version": 3
   },
   "file_extension": ".py",
   "mimetype": "text/x-python",
   "name": "python",
   "nbconvert_exporter": "python",
   "pygments_lexer": "ipython3",
   "version": "3.12.8"
  }
 },
 "nbformat": 4,
 "nbformat_minor": 2
}
