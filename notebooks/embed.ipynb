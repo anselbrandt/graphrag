{
 "cells": [
  {
   "cell_type": "code",
   "execution_count": 1,
   "metadata": {},
   "outputs": [
    {
     "data": {
      "application/vnd.jupyter.widget-view+json": {
       "model_id": "0157ae8198184ae7b09c97c385ca202b",
       "version_major": 2,
       "version_minor": 0
      },
      "text/plain": [
       "Fetching 4 files:   0%|          | 0/4 [00:00<?, ?it/s]"
      ]
     },
     "metadata": {},
     "output_type": "display_data"
    },
    {
     "name": "stderr",
     "output_type": "stream",
     "text": [
      "/home/ansel/ai/graphrag/.venv/lib/python3.12/site-packages/transformers/convert_slow_tokenizer.py:561: UserWarning: The sentencepiece tokenizer that you are converting to a fast tokenizer uses the byte fallback option which is not implemented in the fast tokenizers. In practice this means that the fast version of the tokenizer can produce unknown tokens whereas the sentencepiece version would have converted these unknown tokens into a sequence of byte tokens matching the original piece of text.\n",
      "  warnings.warn(\n"
     ]
    }
   ],
   "source": [
    "import json\n",
    "from pathlib import Path\n",
    "import chromadb\n",
    "from chromadb.utils.embedding_functions.sentence_transformer_embedding_function import (\n",
    "    SentenceTransformerEmbeddingFunction,\n",
    ")\n",
    "\n",
    "from gliner import GLiNER\n",
    "from pydantic import BaseModel\n",
    "\n",
    "from chunking_utils import get_chunks\n",
    "from llm_utils import ask_llm\n",
    "from metadata_utils import get_meta\n",
    "from nlp_utils import get_entities, get_tags, get_relevant_chunks\n",
    "from transcript_utils import srt_to_text\n",
    "\n",
    "\n",
    "class Entity(BaseModel):\n",
    "    start: int\n",
    "    end: int\n",
    "    text: str\n",
    "    label: str\n",
    "    score: float\n",
    "\n",
    "\n",
    "model = GLiNER.from_pretrained(\"urchade/gliner_base\", max_length=768)"
   ]
  },
  {
   "cell_type": "code",
   "execution_count": 2,
   "metadata": {},
   "outputs": [],
   "source": [
    "chromadb_dir = Path(\"chromadb\")\n",
    "chromadb_dir.mkdir(exist_ok=True)\n",
    "\n",
    "chroma_client = chromadb.PersistentClient(path=str(chromadb_dir))\n",
    "collection = chroma_client.get_or_create_collection(name=\"keywords\")"
   ]
  },
  {
   "cell_type": "code",
   "execution_count": null,
   "metadata": {},
   "outputs": [],
   "source": [
    "files = [\n",
    "    file for file in sorted(Path(\"../files/rotl\").iterdir()) if \".srt\" in file.name\n",
    "]\n",
    "\n",
    "LLM_MODEL = \"qwen2.5:14b\"\n",
    "\n",
    "for file in files:\n",
    "    file_name, episode_number, episode_date, episode_title = get_meta(file)\n",
    "    transcript = srt_to_text(file)\n",
    "    chunks = get_chunks(transcript)\n",
    "    results = get_entities(chunks, model)\n",
    "\n",
    "    for entity, data in results.items():\n",
    "        labels = data[\"labels\"]\n",
    "        indexes = data[\"indexes\"]\n",
    "        relevant_chunks = get_relevant_chunks(chunks, indexes)\n",
    "\n",
    "        context = \"\\n\".join(relevant_chunks)\n",
    "        question = f\"What do John and Merlin say about {entity}?\"\n",
    "        answer = ask_llm(f\"{context}\\n\\n{question}\", model=LLM_MODEL, tokens=500)\n",
    "\n",
    "        tags = get_tags(answer, model, stopwords=[\"john\", \"merlin\"])\n",
    "\n",
    "        doc = f\"{entity}\\n\\n{\", \".join(labels)}\\n\\n{\", \".join(tags)}\\n\\n{answer}\"\n",
    "\n",
    "        id = f\"{entity}_rotl_{episode_number}\"\n",
    "        metadata = {\n",
    "            \"chunks\": \",\".join([str(i) for i in indexes]),\n",
    "            \"show\": \"Roderick on the Line\",\n",
    "            \"episode\": episode_number,\n",
    "            \"title\": episode_title,\n",
    "            \"subject\": entity,\n",
    "            \"category\": \",\".join(labels),\n",
    "            \"tags\": \",\".join(tags),\n",
    "        }\n",
    "\n",
    "        collection.add(documents=[doc], ids=[id], metadatas=[metadata])"
   ]
  },
  {
   "cell_type": "code",
   "execution_count": null,
   "metadata": {},
   "outputs": [],
   "source": [
    "query = \"Who is Eleanor?\"\n",
    "results = collection.query(query_texts=[query], n_results=10)\n",
    "\n",
    "docs = results[\"documents\"][0]\n",
    "\n",
    "answer = ask_llm(\n",
    "    f\"{query} Only answer the question.\\n\\n{docs[0]}\", model=LLM_MODEL, tokens=500\n",
    ")\n",
    "\n",
    "print(answer)"
   ]
  }
 ],
 "metadata": {
  "kernelspec": {
   "display_name": ".venv",
   "language": "python",
   "name": "python3"
  },
  "language_info": {
   "codemirror_mode": {
    "name": "ipython",
    "version": 3
   },
   "file_extension": ".py",
   "mimetype": "text/x-python",
   "name": "python",
   "nbconvert_exporter": "python",
   "pygments_lexer": "ipython3",
   "version": "3.12.8"
  }
 },
 "nbformat": 4,
 "nbformat_minor": 2
}
