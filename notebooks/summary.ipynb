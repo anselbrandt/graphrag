{
 "cells": [
  {
   "cell_type": "code",
   "execution_count": null,
   "metadata": {},
   "outputs": [],
   "source": [
    "from pathlib import Path\n",
    "\n",
    "from chunking_utils import get_chunks, token_counter\n",
    "from llm_utils import ask_llm\n",
    "from metadata_utils import get_meta\n",
    "from transcript_utils import srt_to_text"
   ]
  },
  {
   "cell_type": "code",
   "execution_count": 12,
   "metadata": {},
   "outputs": [
    {
     "name": "stdout",
     "output_type": "stream",
     "text": [
      "Roderick on the Line\n",
      "\n",
      "Episode 398\n",
      "\n",
      "Tyrell's Robe\n",
      "\n",
      "Summary of Roderick on the Line, episode 398, Tyrell's Robe, September 28, 2020\n",
      "\n",
      "In this episode of \"Roderick on the Line,\" John and Merlin delve into a discussion about unintended consequences in nature and human intervention. The conversation begins with John recounting his experience dealing with rats around his property, which were initially displaced by previous owners but found new homes in wood piles thrown off the side of a ravine. This leads to a broader discussion on ecological balance and the impact of introducing or removing species from an environment.\n",
      "Merlin brings up the example of playing God in Yellowstone National Park, where attempts to manage wildlife populations often result in unforeseen consequences. The hosts then transition to discussing cat rescue shelters that specialize in feral cats too dangerous for domestic life but useful for pest control on farms and other rural areas. They mention how these shelters have seen an increase in adoptions during the COVID-19 pandemic as people seek new companionship.\n",
      "The episode concludes with John expressing relief at the presence of a large owl, Vigo, which has taken care of the rat problem naturally without needing to adopt one of the dangerous feral cats his mother suggested. Throughout the conversation, both hosts share insights and anecdotes that highlight the complexities of human interaction with nature and wildlife management.\n"
     ]
    }
   ],
   "source": [
    "files = [\n",
    "    file\n",
    "    for file in sorted(Path(\"../files/rotl\").iterdir())\n",
    "    if \".srt\" in file.name\n",
    "    if \"398\" in file.name\n",
    "]\n",
    "\n",
    "LLM_MODEL = \"qwen2.5:14b\"\n",
    "\n",
    "for file in files:\n",
    "    file_name, episode_number, episode_date, episode_title = get_meta(file)\n",
    "    transcript = srt_to_text(file)\n",
    "    chunks = get_chunks(transcript)\n",
    "    summary_instructions = f\"Summarize this episode of Roderick on the Line\"\n",
    "    summary = ask_llm(\n",
    "        f\"{transcript}\\n\\n{summary_instructions}\", model=LLM_MODEL, tokens=500\n",
    "    )\n",
    "    summary_metadata = {\n",
    "        \"chunks\": \"\",\n",
    "        \"show\": \"Roderick on the Line\",\n",
    "        \"episode\": episode_number,\n",
    "        \"title\": episode_title,\n",
    "        \"subject\": f\"Roderick on the Line, episode {episode_number}, {episode_title}\",\n",
    "        \"category\": \"Summary\",\n",
    "        \"tags\": f\"Roderick on the Line, episode {episode_number}, {episode_title}\",\n",
    "    }\n",
    "    summary_id = f\"rotl_{episode_number}_summary\"\n",
    "    summary_doc = f\"Roderick on the Line\\n\\nEpisode {episode_number}\\n\\n{episode_title}\\n\\nSummary of Roderick on the Line, episode {episode_number}, {episode_title}, {episode_date}\\n\\n{summary}\"\n",
    "\n",
    "    print(summary_doc)"
   ]
  }
 ],
 "metadata": {
  "kernelspec": {
   "display_name": ".venv",
   "language": "python",
   "name": "python3"
  },
  "language_info": {
   "codemirror_mode": {
    "name": "ipython",
    "version": 3
   },
   "file_extension": ".py",
   "mimetype": "text/x-python",
   "name": "python",
   "nbconvert_exporter": "python",
   "pygments_lexer": "ipython3",
   "version": "3.12.8"
  }
 },
 "nbformat": 4,
 "nbformat_minor": 2
}
