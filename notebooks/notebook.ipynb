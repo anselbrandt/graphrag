{
 "cells": [
  {
   "cell_type": "code",
   "execution_count": 14,
   "metadata": {},
   "outputs": [],
   "source": [
    "from metadata_utils import get_meta\n",
    "from llm_utils import ask_llm\n",
    "from transcript_utils import srt_to_text\n",
    "from chunking_utils import chunker, token_counter\n",
    "from chonkie import Chunk"
   ]
  },
  {
   "cell_type": "code",
   "execution_count": 40,
   "metadata": {},
   "outputs": [],
   "source": [
    "from pathlib import Path\n",
    "\n",
    "files = [file for file in Path(\"../files/rotl\").iterdir() if \".srt\" in file.name]\n",
    "\n",
    "results_dir = Path(\"summaries_test\")\n",
    "results_dir.mkdir(exist_ok=True)\n",
    "\n",
    "chunks_dir = Path(\"chunks\")\n",
    "chunks_dir.mkdir(exist_ok=True)\n",
    "\n",
    "\n",
    "def who_is(subject, exclude=[]):\n",
    "    results = []\n",
    "    for file in files:\n",
    "        file_name, episode_number, episode_date, episode_title = get_meta(file)\n",
    "        text = srt_to_text(file)\n",
    "        if subject in text and all(name not in text for name in exclude):\n",
    "            chunks = chunker(text)\n",
    "            for chunk in chunks:\n",
    "                if isinstance(chunk, Chunk) and chunk.text.count(subject):\n",
    "                    results.append(chunk.text)\n",
    "    chunks_path = chunks_dir / f\"{subject}_chunks.txt\"\n",
    "    with open(chunks_path, \"w\") as f:\n",
    "        f.write(\"\\n\".join(results))\n",
    "    question = f\"Who is {subject}?\"\n",
    "    context = f\"{\"\\n\".join(results)}\\n\\n\\n{question}\"\n",
    "    raw_answer = ask_llm(context)\n",
    "    answer = raw_answer.strip().replace(\". \", \".\\n\")\n",
    "    out_path = results_dir / f\"{subject}.txt\"\n",
    "\n",
    "    with open(out_path, \"w\") as f:\n",
    "        f.write(answer)\n",
    "\n",
    "    return answer"
   ]
  },
  {
   "cell_type": "code",
   "execution_count": 41,
   "metadata": {},
   "outputs": [
    {
     "name": "stdout",
     "output_type": "stream",
     "text": [
      "Eleanor is John Roderick's daughter.\n",
      "She is a young child who often accompanies John on his travels.\n",
      "She is known for her love of Iron Man comic books, Goldfish crackers, and her unique way of counting numbers, which includes the number \"one hundred and thirty and two.\" Eleanor is also known for her stubbornness and her tendency to jump on things, such as John's air mattress.\n",
      "Despite her young age, she has a strong personality and can be quite opinionated.\n",
      "John often jokes about her and refers to her as his \"mini-me.\"\n"
     ]
    }
   ],
   "source": [
    "exclude = [\"Eleanor Rigby\", \"Eleanor Roosevelt\", \"Eleanor Braun\"]\n",
    "answer = who_is(\"Eleanor\", exclude=exclude)\n",
    "\n",
    "print(answer)"
   ]
  }
 ],
 "metadata": {
  "kernelspec": {
   "display_name": ".venv",
   "language": "python",
   "name": "python3"
  },
  "language_info": {
   "codemirror_mode": {
    "name": "ipython",
    "version": 3
   },
   "file_extension": ".py",
   "mimetype": "text/x-python",
   "name": "python",
   "nbconvert_exporter": "python",
   "pygments_lexer": "ipython3",
   "version": "3.12.8"
  }
 },
 "nbformat": 4,
 "nbformat_minor": 2
}
