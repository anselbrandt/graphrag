{
 "cells": [
  {
   "cell_type": "code",
   "execution_count": 1,
   "metadata": {},
   "outputs": [],
   "source": [
    "from metadata_utils import get_meta\n",
    "from llm_utils import ask_llm\n",
    "from transcript_utils import srt_to_text\n",
    "from chunking_utils import chunker, token_counter\n",
    "from chonkie import Chunk"
   ]
  },
  {
   "cell_type": "code",
   "execution_count": 2,
   "metadata": {},
   "outputs": [],
   "source": [
    "from pathlib import Path\n",
    "\n",
    "files = [file for file in Path(\"../files/rotl\").iterdir() if \".srt\" in file.name]\n",
    "\n",
    "results_dir = Path(\"summaries_test\")\n",
    "results_dir.mkdir(exist_ok=True)\n",
    "\n",
    "chunks_dir = Path(\"chunks\")\n",
    "chunks_dir.mkdir(exist_ok=True)\n",
    "\n",
    "\n",
    "def who_is(subject, exclude=[]):\n",
    "    results = []\n",
    "    for file in files:\n",
    "        file_name, episode_number, episode_date, episode_title = get_meta(file)\n",
    "        text = srt_to_text(file)\n",
    "        if subject in text and all(name not in text for name in exclude):\n",
    "            chunks = chunker(text)\n",
    "            for chunk in chunks:\n",
    "                if isinstance(chunk, Chunk) and chunk.text.count(subject):\n",
    "                    results.append(chunk.text)\n",
    "    chunks_path = chunks_dir / f\"{subject}_chunks.txt\"\n",
    "    with open(chunks_path, \"w\") as f:\n",
    "        f.write(\"\\n\".join(results))\n",
    "    question = f\"Who is {subject}?\"\n",
    "    context = f\"{\"\\n\".join(results)}\\n\\n\\n{question}\"\n",
    "    raw_answer = ask_llm(context)\n",
    "    answer = raw_answer.strip().replace(\". \", \".\\n\")\n",
    "    out_path = results_dir / f\"{subject}.txt\"\n",
    "\n",
    "    with open(out_path, \"w\") as f:\n",
    "        f.write(answer)\n",
    "\n",
    "    return answer"
   ]
  },
  {
   "cell_type": "code",
   "execution_count": null,
   "metadata": {},
   "outputs": [],
   "source": [
    "exclude = [\"Eleanor Rigby\", \"Eleanor Roosevelt\", \"Eleanor Braun\"]\n",
    "answer = who_is(\"Eleanor\", exclude=exclude)\n",
    "\n",
    "print(answer)"
   ]
  },
  {
   "cell_type": "code",
   "execution_count": 3,
   "metadata": {},
   "outputs": [
    {
     "data": {
      "application/vnd.jupyter.widget-view+json": {
       "model_id": "edd911449a614ff8be2745c7b08bc572",
       "version_major": 2,
       "version_minor": 0
      },
      "text/plain": [
       "Fetching 5 files:   0%|          | 0/5 [00:00<?, ?it/s]"
      ]
     },
     "metadata": {},
     "output_type": "display_data"
    },
    {
     "name": "stderr",
     "output_type": "stream",
     "text": [
      "/Users/ansel/ai/graphrag/.venv/lib/python3.12/site-packages/transformers/convert_slow_tokenizer.py:561: UserWarning: The sentencepiece tokenizer that you are converting to a fast tokenizer uses the byte fallback option which is not implemented in the fast tokenizers. In practice this means that the fast version of the tokenizer can produce unknown tokens whereas the sentencepiece version would have converted these unknown tokens into a sequence of byte tokens matching the original piece of text.\n",
      "  warnings.warn(\n"
     ]
    }
   ],
   "source": [
    "from gliner import GLiNER\n",
    "\n",
    "model = GLiNER.from_pretrained(\"urchade/gliner_medium-v2.1\", max_length=768)"
   ]
  },
  {
   "cell_type": "code",
   "execution_count": 4,
   "metadata": {},
   "outputs": [],
   "source": [
    "from pathlib import Path\n",
    "\n",
    "files = [file for file in Path(\"../files/rotl\").iterdir() if \".srt\" in file.name]\n",
    "\n",
    "labels = [\"Person\"]\n",
    "\n",
    "def get_names(file):\n",
    "    results = []\n",
    "    file_name, episode_number, episode_date, episode_title = get_meta(file)\n",
    "    transcript = srt_to_text(file)\n",
    "    chunks = chunker(transcript)\n",
    "    for chunk in chunks:\n",
    "        entities = model.predict_entities(chunk.text, labels, threshold=0.5)\n",
    "        for entity in entities:\n",
    "            results.append(entity[\"text\"])\n",
    "    return results"
   ]
  },
  {
   "cell_type": "code",
   "execution_count": null,
   "metadata": {},
   "outputs": [
    {
     "name": "stderr",
     "output_type": "stream",
     "text": [
      "Asking to truncate to max_length but no maximum length is provided and the model has no predefined maximum length. Default to no truncation.\n"
     ]
    }
   ],
   "source": [
    "names_dir = Path(\"names\")\n",
    "names_dir.mkdir(exist_ok=True)\n",
    "for file in files:\n",
    "    names = get_names(file)\n",
    "    names_path = names_dir / file.name\n",
    "    with open(names_path, \"w\") as f:\n",
    "        f.write(\"\\n\".join(names))"
   ]
  }
 ],
 "metadata": {
  "kernelspec": {
   "display_name": ".venv",
   "language": "python",
   "name": "python3"
  },
  "language_info": {
   "codemirror_mode": {
    "name": "ipython",
    "version": 3
   },
   "file_extension": ".py",
   "mimetype": "text/x-python",
   "name": "python",
   "nbconvert_exporter": "python",
   "pygments_lexer": "ipython3",
   "version": "3.12.8"
  }
 },
 "nbformat": 4,
 "nbformat_minor": 2
}
